{
 "cells": [
  {
   "cell_type": "code",
   "execution_count": null,
   "metadata": {},
   "outputs": [
    {
     "name": "stdout",
     "output_type": "stream",
     "text": [
      "Requirement already satisfied: flask in c:\\users\\liyana_bh\\appdata\\local\\programs\\python\\python311\\lib\\site-packages (3.1.2)\n",
      "Requirement already satisfied: blinker>=1.9.0 in c:\\users\\liyana_bh\\appdata\\local\\programs\\python\\python311\\lib\\site-packages (from flask) (1.9.0)\n",
      "Requirement already satisfied: click>=8.1.3 in c:\\users\\liyana_bh\\appdata\\local\\programs\\python\\python311\\lib\\site-packages (from flask) (8.2.1)\n",
      "Requirement already satisfied: itsdangerous>=2.2.0 in c:\\users\\liyana_bh\\appdata\\local\\programs\\python\\python311\\lib\\site-packages (from flask) (2.2.0)\n",
      "Requirement already satisfied: jinja2>=3.1.2 in c:\\users\\liyana_bh\\appdata\\local\\programs\\python\\python311\\lib\\site-packages (from flask) (3.1.6)\n",
      "Requirement already satisfied: markupsafe>=2.1.1 in c:\\users\\liyana_bh\\appdata\\local\\programs\\python\\python311\\lib\\site-packages (from flask) (3.0.2)\n",
      "Requirement already satisfied: werkzeug>=3.1.0 in c:\\users\\liyana_bh\\appdata\\local\\programs\\python\\python311\\lib\\site-packages (from flask) (3.1.3)\n",
      "Requirement already satisfied: colorama in c:\\users\\liyana_bh\\appdata\\local\\programs\\python\\python311\\lib\\site-packages (from click>=8.1.3->flask) (0.4.6)\n"
     ]
    }
   ],
   "source": [
    "!pip install flask"
   ]
  },
  {
   "cell_type": "code",
   "execution_count": null,
   "metadata": {},
   "outputs": [
    {
     "name": "stdout",
     "output_type": "stream",
     "text": [
      "jobs.json downloaded successfully!\n"
     ]
    }
   ],
   "source": [
    "import urllib.request\n",
    "\n",
    "url = \"https://cf-courses-data.s3.us.cloud-object-storage.appdomain.cloud/IBM-DA0321EN-SkillsNetwork/labs/module%201/Accessing%20Data%20Using%20APIs/jobs.json\"\n",
    "urllib.request.urlretrieve(url, \"jobs.json\")\n",
    "print(\"jobs.json downloaded successfully!\")\n"
   ]
  },
  {
   "cell_type": "code",
   "execution_count": null,
   "metadata": {},
   "outputs": [
    {
     "name": "stderr",
     "output_type": "stream",
     "text": [
      "<>:10: SyntaxWarning: invalid escape sequence '\\+'\n",
      "<>:12: SyntaxWarning: invalid escape sequence '\\#'\n",
      "<>:10: SyntaxWarning: invalid escape sequence '\\+'\n",
      "<>:12: SyntaxWarning: invalid escape sequence '\\#'\n",
      "<ipython-input-3-79390cc876b8>:10: SyntaxWarning: invalid escape sequence '\\+'\n",
      "  'C++'    : '(C\\+\\+)',\n",
      "<ipython-input-3-79390cc876b8>:12: SyntaxWarning: invalid escape sequence '\\#'\n",
      "  'C#'     : '(C\\#)',\n"
     ]
    },
    {
     "name": "stdout",
     "output_type": "stream",
     "text": [
      " * Serving Flask app '__main__'\n",
      " * Debug mode: off\n"
     ]
    },
    {
     "name": "stderr",
     "output_type": "stream",
     "text": [
      "WARNING: This is a development server. Do not use it in a production deployment. Use a production WSGI server instead.\n",
      " * Running on http://127.0.0.1:5000\n",
      "Press CTRL+C to quit\n",
      "\n",
      " * Running on http://127.0.0.1:5000\n",
      "Press CTRL+C to quit\n"
     ]
    }
   ],
   "source": [
    "import flask\n",
    "from flask import request, jsonify\n",
    "import requests\n",
    "import re\n",
    "\n",
    "def get_data(key,value,current):\n",
    "    results = list()\n",
    "    pattern_dict = {\n",
    "        'C'      : '(C)',\n",
    "        'C++'    : '(C\\+\\+)',\n",
    "        'Java'   :'(Java)',\n",
    "        'C#'     : '(C\\#)',\n",
    "        'Python' :'(Python)',\n",
    "        'Scala' : '(Scala)',\n",
    "        'Oracle' : '(Oracle)',\n",
    "        'SQL Server': '(SQL Server)',\n",
    "        'MySQL Server' :'(MySQL Server)',\n",
    "        'PostgreSQL':'(PostgreSQL)',\n",
    "        'MongoDB'    : '(MongoDB)',\n",
    "        'JavaScript'    : '(JavaScript)',\n",
    "        'Los Angeles' :'(Los Angeles)',\n",
    "        'New York':'(New York)',\n",
    "        'San Francisco':'(San Francisco)',\n",
    "        'Washington DC':'(Washington DC)',\n",
    "        'Seattle':'(Seattle)',\n",
    "        'Austin':'(Austin)',\n",
    "        'Detroit':'(Detroit)',\n",
    "        \n",
    "        \n",
    "        \n",
    "        \n",
    "        \n",
    "    }\n",
    "    for rec in current:\n",
    "        print(rec[key])\n",
    "        print(type(rec[key]))\n",
    "        print(rec[key].find(value))\n",
    "        #if rec[key].find(value) != -1:\n",
    "        import re\n",
    "        #reex_str = \"\"\"(C)|(C\\+\\+)|(JavaScript)|(Java)|(C\\#)|(Python)|(Scala)|(Oracle)|(SQL Server)|(MySQL Server)|(PostgreSQL)|(MongoDB)\"\"\"\n",
    "        if re.search(pattern_dict[value],rec[key]) != None:\n",
    "            results.append(rec)\n",
    "    return results\n",
    "\n",
    "app = flask.Flask(__name__)\n",
    "\n",
    "import json\n",
    "data = None\n",
    "with open('jobs.json',encoding='utf-8') as f:\n",
    "    # returns JSON object as\n",
    "    # a dictionary\n",
    "    data = json.load(f)\n",
    "    \n",
    "    \n",
    "\n",
    "@app.route('/', methods=['GET'])\n",
    "def home():\n",
    "    \n",
    "    return '''<h1>Welcome to flask JOB search API</p>'''\n",
    "\n",
    "\n",
    "@app.route('/data/all', methods=['GET'])\n",
    "def api_all():\n",
    "    return jsonify(data)\n",
    "\n",
    "\n",
    "@app.route('/data', methods=['GET'])\n",
    "def api_id():\n",
    "    # Check if keys such as Job Title,KeySkills, Role Category and others  are provided as part of the URL.\n",
    "    #  Assign the keys to the corresponding variables..\n",
    "    # If no key is provided, display an error in the browser.\n",
    "    res = None\n",
    "    for req in request.args:\n",
    "        \n",
    "        if req == 'Job Title':\n",
    "            key = 'Job Title'\n",
    "        elif req == 'Job Experience Required' :\n",
    "            key='Job Experience Required'\n",
    "        elif req == 'Key Skills' :\n",
    "            key='Key Skills'\n",
    "            \n",
    "        elif req == 'Role Category' :\n",
    "            key='Role Category'\n",
    "        elif req == 'Location' :\n",
    "            key='Location'\n",
    "        \n",
    "        elif req == 'Functional Area' :\n",
    "            key='Functional Area'\n",
    "        \n",
    "        elif req == 'Industry' :\n",
    "            key='Industry'\n",
    "        elif req == 'Role' :\n",
    "            key='Role'\n",
    "        elif req==\"id\":\n",
    "             key=\"id\"\n",
    "        else:\n",
    "            pass\n",
    "    \n",
    "        value = request.args[key]\n",
    "        if (res==None):\n",
    "            res = get_data(key,value,data)\n",
    "        else:\n",
    "            res = get_data(key,value,res)\n",
    "\n",
    "    # Use the jsonify function from Flask to convert our list of\n",
    "    # Python dictionaries to the JSON format.\n",
    "    return jsonify(res)\n",
    "\n",
    "app.run()"
   ]
  }
 ],
 "metadata": {
  "language_info": {
   "codemirror_mode": {
    "name": "ipython",
    "version": 3
   },
   "file_extension": ".py",
   "mimetype": "text/x-python",
   "name": "python",
   "nbconvert_exporter": "python",
   "pygments_lexer": "ipython3",
   "version": 3
  }
 },
 "nbformat": 4,
 "nbformat_minor": 2
}
